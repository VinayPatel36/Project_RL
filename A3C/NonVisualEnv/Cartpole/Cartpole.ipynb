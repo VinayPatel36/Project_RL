{
 "cells": [
  {
   "cell_type": "code",
   "execution_count": null,
   "metadata": {},
   "outputs": [],
   "source": [
    "import os\n",
    "import threading\n",
    "import multiprocessing\n",
    "import numpy as np\n",
    "import tensorflow as tf\n",
    "\n",
    "from worker import Worker\n",
    "from ac_network import AC_Network"
   ]
  },
  {
   "cell_type": "code",
   "execution_count": null,
   "metadata": {},
   "outputs": [],
   "source": [
    "ENV_NAME = 'CartPole-v0'\n",
    "STATE_DIM = 4\n",
    "ACTION_DIM = 2\n",
    "MONITOR_DIR = './results/' + ENV_NAME"
   ]
  },
  {
   "cell_type": "code",
   "execution_count": null,
   "metadata": {},
   "outputs": [],
   "source": [
    "RANDOM_SEED = 1234\n",
    "LOAD_MODEL = False\n",
    "TEST_MODEL = False\n",
    "MODEL_DIR = './model/'\n",
    "LEARNING_RATE = 0.0001\n",
    "GAMMA = 0.99"
   ]
  },
  {
   "cell_type": "code",
   "execution_count": null,
   "metadata": {},
   "outputs": [],
   "source": [
    "global master_network\n",
    "global global_episodes\n",
    "\n",
    "tf.reset_default_graph()\n",
    "\n",
    "if not os.path.exists(MODEL_DIR):\n",
    "    os.makedirs(MODEL_DIR)\n",
    "\n",
    "with tf.device(\"/cpu:0\"):\n",
    "    np.random.seed(RANDOM_SEED)\n",
    "    tf.set_random_seed(RANDOM_SEED)\n",
    "\n",
    "    global_episodes = tf.Variable(0, dtype=tf.int32, name='global_episodes', trainable=False)\n",
    "    trainer = tf.train.AdamOptimizer(learning_rate=LEARNING_RATE)\n",
    "    master_network = AC_Network(STATE_DIM, ACTION_DIM, 'global', None)\n",
    "    num_workers = multiprocessing.cpu_count()\n",
    "\n",
    "    if TEST_MODEL:\n",
    "        num_workers = 1\n",
    "\n",
    "    workers = []\n",
    "    for i in range(num_workers):\n",
    "        workers.append(Worker(i, STATE_DIM, ACTION_DIM, trainer, MODEL_DIR, global_episodes,\n",
    "                              ENV_NAME, RANDOM_SEED, TEST_MODEL))\n",
    "    saver = tf.train.Saver(max_to_keep=5)\n",
    "\n",
    "with tf.Session() as sess:\n",
    "    coord = tf.train.Coordinator()\n",
    "    if LOAD_MODEL or TEST_MODEL:\n",
    "        print('Loading Model...')\n",
    "        ckpt = tf.train.get_checkpoint_state(MODEL_DIR)\n",
    "        saver.restore(sess, ckpt.model_checkpoint_path)\n",
    "    else:\n",
    "        sess.run(tf.global_variables_initializer())\n",
    "\n",
    "    if TEST_MODEL:\n",
    "        env = workers[0].get_env()\n",
    "        env.monitor.start(MONITOR_DIR, force=True)\n",
    "        workers[0].work(GAMMA, sess, coord, saver)\n",
    "    else:\n",
    "        worker_threads = []\n",
    "        for worker in workers:\n",
    "            worker_work = lambda: worker.work(GAMMA, sess, coord, saver)\n",
    "            t = threading.Thread(target=(worker_work))\n",
    "            t.start()\n",
    "            worker_threads.append(t)\n",
    "        coord.join(worker_threads)"
   ]
  }
 ],
 "metadata": {
  "kernelspec": {
   "display_name": "Python 3",
   "language": "python",
   "name": "python3"
  },
  "language_info": {
   "codemirror_mode": {
    "name": "ipython",
    "version": 3
   },
   "file_extension": ".py",
   "mimetype": "text/x-python",
   "name": "python",
   "nbconvert_exporter": "python",
   "pygments_lexer": "ipython3",
   "version": "3.7.4"
  }
 },
 "nbformat": 4,
 "nbformat_minor": 2
}
