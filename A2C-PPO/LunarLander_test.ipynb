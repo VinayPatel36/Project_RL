{
 "cells": [
  {
   "cell_type": "code",
   "execution_count": 1,
   "metadata": {},
   "outputs": [],
   "source": [
    "import numpy as np\n",
    "import os\n",
    "import time\n",
    "import gym\n",
    "from collections import deque\n",
    "import tensorflow as tf\n",
    "import tensorflow.keras as K\n",
    "from Agent import *"
   ]
  },
  {
   "cell_type": "code",
   "execution_count": 2,
   "metadata": {},
   "outputs": [],
   "source": [
    "ENV_NAME = \"LunarLander-v2\"\n",
    "TRAIN_ITERATIONS = 10000\n",
    "MAX_EPISODE_LENGTH = 1000\n",
    "TRAJECTORY_BUFFER_SIZE = 32\n",
    "BATCH_SIZE = 16\n",
    "RENDER_EVERY = 1"
   ]
  },
  {
   "cell_type": "code",
   "execution_count": 3,
   "metadata": {},
   "outputs": [
    {
     "name": "stdout",
     "output_type": "stream",
     "text": [
      "WARNING:tensorflow:From C:\\Users\\Vinay Patel\\AppData\\Local\\Continuum\\anaconda3\\lib\\site-packages\\tensorflow_core\\python\\ops\\resource_variable_ops.py:1630: calling BaseResourceVariable.__init__ (from tensorflow.python.ops.resource_variable_ops) with constraint is deprecated and will be removed in a future version.\n",
      "Instructions for updating:\n",
      "If using Keras pass *_constraint arguments to layers.\n",
      "Model: \"model\"\n",
      "_________________________________________________________________\n",
      "Layer (type)                 Output Shape              Param #   \n",
      "=================================================================\n",
      "state_input (InputLayer)     [(None, 8)]               0         \n",
      "_________________________________________________________________\n",
      "dense1 (Dense)               (None, 32)                288       \n",
      "_________________________________________________________________\n",
      "dense2 (Dense)               (None, 32)                1056      \n",
      "_________________________________________________________________\n",
      "actor_output_layer (Dense)   (None, 1)                 33        \n",
      "=================================================================\n",
      "Total params: 1,377\n",
      "Trainable params: 1,377\n",
      "Non-trainable params: 0\n",
      "_________________________________________________________________\n",
      "Model: \"model_1\"\n",
      "__________________________________________________________________________________________________\n",
      "Layer (type)                    Output Shape         Param #     Connected to                     \n",
      "==================================================================================================\n",
      "state_input (InputLayer)        [(None, 8)]          0                                            \n",
      "__________________________________________________________________________________________________\n",
      "tf_op_layer_ExpandDims (TensorF [(1, None, 8)]       0           state_input[0][0]                \n",
      "__________________________________________________________________________________________________\n",
      "lstm (LSTM)                     (None, 24)           3168        tf_op_layer_ExpandDims[0][0]     \n",
      "__________________________________________________________________________________________________\n",
      "dense1 (Dense)                  (None, 32)           800         lstm[0][0]                       \n",
      "__________________________________________________________________________________________________\n",
      "dense2 (Dense)                  (None, 32)           1056        dense1[0][0]                     \n",
      "__________________________________________________________________________________________________\n",
      "advantage_input (InputLayer)    [(None, 1)]          0                                            \n",
      "__________________________________________________________________________________________________\n",
      "old_prediction_input (InputLaye [(None, 4)]          0                                            \n",
      "__________________________________________________________________________________________________\n",
      "actor_output_layer (Dense)      (None, 4)            132         dense2[0][0]                     \n",
      "==================================================================================================\n",
      "Total params: 5,156\n",
      "Trainable params: 5,156\n",
      "Non-trainable params: 0\n",
      "__________________________________________________________________________________________________\n",
      "Model: \"model_2\"\n",
      "__________________________________________________________________________________________________\n",
      "Layer (type)                    Output Shape         Param #     Connected to                     \n",
      "==================================================================================================\n",
      "state_input (InputLayer)        [(None, 8)]          0                                            \n",
      "__________________________________________________________________________________________________\n",
      "tf_op_layer_ExpandDims_1 (Tenso [(1, None, 8)]       0           state_input[0][0]                \n",
      "__________________________________________________________________________________________________\n",
      "lstm_1 (LSTM)                   (None, 24)           3168        tf_op_layer_ExpandDims_1[0][0]   \n",
      "__________________________________________________________________________________________________\n",
      "dense1 (Dense)                  (None, 32)           800         lstm_1[0][0]                     \n",
      "__________________________________________________________________________________________________\n",
      "dense2 (Dense)                  (None, 32)           1056        dense1[0][0]                     \n",
      "__________________________________________________________________________________________________\n",
      "advantage_input (InputLayer)    [(None, 1)]          0                                            \n",
      "__________________________________________________________________________________________________\n",
      "old_prediction_input (InputLaye [(None, 4)]          0                                            \n",
      "__________________________________________________________________________________________________\n",
      "actor_output_layer (Dense)      (None, 4)            132         dense2[0][0]                     \n",
      "==================================================================================================\n",
      "Total params: 5,156\n",
      "Trainable params: 5,156\n",
      "Non-trainable params: 0\n",
      "__________________________________________________________________________________________________\n"
     ]
    }
   ],
   "source": [
    "env = gym.make(ENV_NAME)\n",
    "agent = Agent(env.action_space.n,env.observation_space.shape,BATCH_SIZE)\n",
    "samples_filled = 0"
   ]
  },
  {
   "cell_type": "code",
   "execution_count": 4,
   "metadata": {},
   "outputs": [],
   "source": [
    "agent.actor_network.load_weights(\"81.17627923613364lunar_actor.h5\")"
   ]
  },
  {
   "cell_type": "code",
   "execution_count": 5,
   "metadata": {},
   "outputs": [
    {
     "name": "stdout",
     "output_type": "stream",
     "text": [
      "Episodes: 0 Episodic_Reweard: 21.796859660309735\n",
      "Episodes: 1 Episodic_Reweard: 127.03100207166072\n",
      "Episodes: 2 Episodic_Reweard: 64.81834653170665\n",
      "Episodes: 3 Episodic_Reweard: 123.53677308506884\n",
      "Episodes: 4 Episodic_Reweard: 120.47566596228783\n",
      "Episodes: 5 Episodic_Reweard: 135.85732642254362\n",
      "Episodes: 6 Episodic_Reweard: 165.34313778310513\n",
      "Episodes: 7 Episodic_Reweard: 92.14544638041158\n",
      "Episodes: 8 Episodic_Reweard: 164.9707685886029\n",
      "Episodes: 9 Episodic_Reweard: 126.0040811383568\n",
      "Episodes: 10 Episodic_Reweard: 52.76689003565008\n",
      "Episodes: 11 Episodic_Reweard: 160.07447491439805\n",
      "Episodes: 12 Episodic_Reweard: 88.49514586760235\n",
      "Episodes: 13 Episodic_Reweard: 86.56543380065217\n",
      "Episodes: 14 Episodic_Reweard: 128.011662529291\n"
     ]
    }
   ],
   "source": [
    "for i in range(15):\n",
    "    episode_reward = 0\n",
    "    state = env.reset()\n",
    "    while True:\n",
    "        action = agent.choose_action(state)\n",
    "        env.render()\n",
    "        state, reward, done, _ = env.step(action)\n",
    "        if done:\n",
    "            break \n",
    "        episode_reward += reward\n",
    "    print('Episodes:', i, 'Episodic_Reweard:', episode_reward) \n",
    "env.close()"
   ]
  },
  {
   "cell_type": "code",
   "execution_count": null,
   "metadata": {},
   "outputs": [],
   "source": []
  }
 ],
 "metadata": {
  "kernelspec": {
   "display_name": "Python 3",
   "language": "python",
   "name": "python3"
  },
  "language_info": {
   "codemirror_mode": {
    "name": "ipython",
    "version": 3
   },
   "file_extension": ".py",
   "mimetype": "text/x-python",
   "name": "python",
   "nbconvert_exporter": "python",
   "pygments_lexer": "ipython3",
   "version": "3.7.4"
  }
 },
 "nbformat": 4,
 "nbformat_minor": 2
}
