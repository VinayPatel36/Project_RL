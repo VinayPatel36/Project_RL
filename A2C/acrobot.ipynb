{
 "cells": [
  {
   "cell_type": "code",
   "execution_count": 1,
   "metadata": {},
   "outputs": [
    {
     "name": "stdout",
     "output_type": "stream",
     "text": [
      "WARNING:tensorflow:From C:\\Users\\Vinay Patel\\Project_Elective\\Project_Elective_week2\\actor_model.py:8: The name tf.set_random_seed is deprecated. Please use tf.compat.v1.set_random_seed instead.\n",
      "\n"
     ]
    }
   ],
   "source": [
    "import gym\n",
    "from collections import deque\n",
    "from actor_model import Actor\n",
    "from critic_model import Critic\n",
    "import numpy as np\n",
    "import random\n",
    "import tensorflow as tf\n",
    "\n",
    "import matplotlib.pyplot as plt\n",
    "%matplotlib inline\n",
    "\n",
    "random.seed(2020)\n",
    "np.random.seed(2020)\n",
    "tf.set_random_seed(2020)"
   ]
  },
  {
   "cell_type": "code",
   "execution_count": 2,
   "metadata": {},
   "outputs": [],
   "source": [
    "EPISODES = 4000\n",
    "REPLAY_MEMORY_SIZE = 200000\n",
    "MINIMUM_REPLAY_MEMORY = 1000\n",
    "DISCOUNT = 0.99\n",
    "EPSILON = 1\n",
    "EPSILON_DECAY = 0.9999\n",
    "MINIMUM_EPSILON = 0.1\n",
    "MINIBATCH_SIZE = 64\n",
    "VISUALIZATION = True"
   ]
  },
  {
   "cell_type": "code",
   "execution_count": 3,
   "metadata": {},
   "outputs": [],
   "source": [
    "env = gym.make('Acrobot-v1')\n",
    "action_dim = env.action_space.n\n",
    "observation_dim = env.observation_space.shape"
   ]
  },
  {
   "cell_type": "code",
   "execution_count": 4,
   "metadata": {},
   "outputs": [
    {
     "name": "stdout",
     "output_type": "stream",
     "text": [
      "WARNING:tensorflow:From C:\\Users\\Vinay Patel\\Project_Elective\\Project_Elective_week2\\actor_model.py:13: The name tf.keras.backend.set_session is deprecated. Please use tf.compat.v1.keras.backend.set_session instead.\n",
      "\n",
      "WARNING:tensorflow:From C:\\Users\\Vinay Patel\\AppData\\Local\\Continuum\\anaconda3\\lib\\site-packages\\tensorflow_core\\python\\ops\\resource_variable_ops.py:1630: calling BaseResourceVariable.__init__ (from tensorflow.python.ops.resource_variable_ops) with constraint is deprecated and will be removed in a future version.\n",
      "Instructions for updating:\n",
      "If using Keras pass *_constraint arguments to layers.\n",
      "WARNING:tensorflow:From C:\\Users\\Vinay Patel\\Project_Elective\\Project_Elective_week2\\actor_model.py:16: The name tf.placeholder is deprecated. Please use tf.compat.v1.placeholder instead.\n",
      "\n",
      "WARNING:tensorflow:From C:\\Users\\Vinay Patel\\AppData\\Local\\Continuum\\anaconda3\\lib\\site-packages\\tensorflow_core\\python\\ops\\math_grad.py:1424: where (from tensorflow.python.ops.array_ops) is deprecated and will be removed in a future version.\n",
      "Instructions for updating:\n",
      "Use tf.where in 2.0, which has the same broadcast rule as np.where\n",
      "WARNING:tensorflow:From C:\\Users\\Vinay Patel\\Project_Elective\\Project_Elective_week2\\actor_model.py:22: The name tf.train.AdamOptimizer is deprecated. Please use tf.compat.v1.train.AdamOptimizer instead.\n",
      "\n",
      "WARNING:tensorflow:From C:\\Users\\Vinay Patel\\AppData\\Local\\Continuum\\anaconda3\\lib\\site-packages\\tensorflow_core\\python\\util\\tf_should_use.py:198: initialize_all_variables (from tensorflow.python.ops.variables) is deprecated and will be removed after 2017-03-02.\n",
      "Instructions for updating:\n",
      "Use `tf.global_variables_initializer` instead.\n"
     ]
    }
   ],
   "source": [
    "sess = tf.Session()\n",
    "replay_memory = deque(maxlen=REPLAY_MEMORY_SIZE)\n",
    "actor = Actor(sess, action_dim, observation_dim)\n",
    "critic = Critic(sess, action_dim, observation_dim)\n",
    "sess.run(tf.initialize_all_variables())"
   ]
  },
  {
   "cell_type": "code",
   "execution_count": 5,
   "metadata": {},
   "outputs": [],
   "source": [
    "def train_advantage_actor_critic(replay_memory, actor, critic):\n",
    "    minibatch = random.sample(replay_memory, MINIBATCH_SIZE)\n",
    "    X = []\n",
    "    y = []\n",
    "    advantages = np.zeros(shape=(MINIBATCH_SIZE, action_dim))\n",
    "    for index, sample in enumerate(minibatch):\n",
    "        cur_state, action, reward, next_state, done = sample\n",
    "        if done:\n",
    "            advantages[index][action] = reward - critic.model.predict(np.expand_dims(cur_state, axis=0))[0][0]\n",
    "        else:\n",
    "            next_reward = critic.model.predict(np.expand_dims(next_state, axis=0))[0][0]\n",
    "            advantages[index][action] = reward + DISCOUNT * next_reward - critic.model.predict(np.expand_dims(cur_state, axis=0))[0][0]\n",
    "            reward = reward + DISCOUNT * next_reward\n",
    "        X.append(cur_state)\n",
    "        y.append(reward)\n",
    "    X = np.array(X)\n",
    "    y = np.array(y)\n",
    "    y = np.expand_dims(y, axis=1)\n",
    "    actor.train(X, advantages)\n",
    "    critic.model.fit(X, y, batch_size=MINIBATCH_SIZE, verbose=0)"
   ]
  },
  {
   "cell_type": "code",
   "execution_count": null,
   "metadata": {},
   "outputs": [
    {
     "name": "stdout",
     "output_type": "stream",
     "text": [
      "Episodes: 0 Episodic_Reweard: -500.0 Max_Reward_Achieved: -500.0 EPSILON: 1\n",
      "Episodes: 1 Episodic_Reweard: -500.0 Max_Reward_Achieved: -500.0 EPSILON: 0.9999\n"
     ]
    }
   ],
   "source": [
    "max_reward = -2000\n",
    "scores_window = deque(maxlen=100)\n",
    "scores = []  #list containing scores from each episode\n",
    "for episode in range(EPISODES):\n",
    "    cur_state = env.reset()\n",
    "    done = False\n",
    "    episode_reward = 0\n",
    "    while not done:\n",
    "        if VISUALIZATION:\n",
    "            env.render()\n",
    "\n",
    "        action = np.zeros(shape=(action_dim))\n",
    "        if(np.random.uniform(0, 1) < EPSILON):\n",
    "            action[np.random.randint(0, action_dim)] = 1\n",
    "        else:\n",
    "            action = actor.model.predict(np.expand_dims(cur_state, axis=0))\n",
    "\n",
    "        next_state, reward, done, _ = env.step(np.argmax(action))\n",
    "        \n",
    "        \n",
    "        episode_reward += reward\n",
    "        \n",
    "\n",
    "        replay_memory.append((cur_state, np.argmax(action), reward, next_state, done))\n",
    "\n",
    "        if len(replay_memory) < MINIMUM_REPLAY_MEMORY:\n",
    "            continue\n",
    "        train_advantage_actor_critic(replay_memory, actor, critic)\n",
    "        cur_state = next_state\n",
    "\n",
    "        if EPSILON > MINIMUM_EPSILON and len(replay_memory) >= MINIMUM_REPLAY_MEMORY:\n",
    "            EPSILON *= EPSILON_DECAY\n",
    "            EPSILON = max(EPSILON, MINIMUM_EPSILON)\n",
    "    scores_window.append(episode_reward)\n",
    "    scores.append(episode_reward)\n",
    "    if np.mean(scores_window)>=-110:\n",
    "            print('\\nEnvironment solved in {:d} episodes!\\tAverage Score: {:.2f}'.format(episode-100, np.mean(scores_window)))\n",
    "            actor.model.save_weights(str(episode_reward)+\"acrobot_actor.h5\")\n",
    "            break\n",
    "    max_reward = max(max_reward, episode_reward)\n",
    "    print('Episodes:', episode, 'Episodic_Reweard:', episode_reward, 'Max_Reward_Achieved:', max_reward, 'EPSILON:', EPSILON)\n",
    "    \n",
    "    \n",
    "# plot the scores\n",
    "fig = plt.figure()\n",
    "ax = fig.add_subplot(111)\n",
    "plt.plot(np.arange(len(scores)), scores)\n",
    "plt.ylabel('Score')\n",
    "plt.xlabel('Episode #')\n",
    "plt.show()"
   ]
  },
  {
   "cell_type": "code",
   "execution_count": 11,
   "metadata": {},
   "outputs": [
    {
     "name": "stdout",
     "output_type": "stream",
     "text": [
      "Episodes: 0 Episodic_Reweard: -72.0\n",
      "Episodes: 1 Episodic_Reweard: -76.0\n",
      "Episodes: 2 Episodic_Reweard: -86.0\n",
      "Episodes: 3 Episodic_Reweard: -86.0\n",
      "Episodes: 4 Episodic_Reweard: -76.0\n"
     ]
    }
   ],
   "source": [
    "actor.model.load_weights(\"-122.0acrobot_actor.h5\")\n",
    "for episode in range(5):\n",
    "    cur_state = env.reset()\n",
    "    done = False\n",
    "    episode_reward = 0\n",
    "    while not done:\n",
    "        env.render()\n",
    "        action = np.zeros(shape=(action_dim))\n",
    "        action = actor.model.predict(np.expand_dims(cur_state, axis=0))\n",
    "\n",
    "        next_state, reward, done, _ = env.step(np.argmax(action))\n",
    "        cur_state = next_state\n",
    "        \n",
    "        episode_reward += reward\n",
    "    print('Episodes:', episode, 'Episodic_Reweard:', episode_reward)\n"
   ]
  },
  {
   "cell_type": "code",
   "execution_count": 12,
   "metadata": {},
   "outputs": [],
   "source": [
    "env.close()"
   ]
  }
 ],
 "metadata": {
  "kernelspec": {
   "display_name": "Python 3",
   "language": "python",
   "name": "python3"
  },
  "language_info": {
   "codemirror_mode": {
    "name": "ipython",
    "version": 3
   },
   "file_extension": ".py",
   "mimetype": "text/x-python",
   "name": "python",
   "nbconvert_exporter": "python",
   "pygments_lexer": "ipython3",
   "version": "3.7.4"
  }
 },
 "nbformat": 4,
 "nbformat_minor": 2
}
