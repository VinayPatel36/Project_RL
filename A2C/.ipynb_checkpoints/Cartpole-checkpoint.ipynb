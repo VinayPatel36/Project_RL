{
 "cells": [
  {
   "cell_type": "code",
   "execution_count": 1,
   "metadata": {},
   "outputs": [
    {
     "name": "stdout",
     "output_type": "stream",
     "text": [
      "WARNING:tensorflow:From C:\\Users\\Vinay Patel\\Project_RL\\A2C\\actor_model.py:8: The name tf.set_random_seed is deprecated. Please use tf.compat.v1.set_random_seed instead.\n",
      "\n"
     ]
    }
   ],
   "source": [
    "import gym\n",
    "from collections import deque\n",
    "from actor_model import Actor\n",
    "from critic_model import Critic\n",
    "import numpy as np\n",
    "import random\n",
    "import tensorflow as tf\n",
    "random.seed(2212)\n",
    "np.random.seed(2212)\n",
    "tf.set_random_seed(2212)"
   ]
  },
  {
   "cell_type": "code",
   "execution_count": 2,
   "metadata": {},
   "outputs": [],
   "source": [
    "EPISODES = 2000\n",
    "REPLAY_MEMORY_SIZE = 200000\n",
    "MINIMUM_REPLAY_MEMORY = 1000\n",
    "DISCOUNT = 0.99\n",
    "EPSILON = 1\n",
    "EPSILON_DECAY = 0.999\n",
    "MINIMUM_EPSILON = 0.001\n",
    "MINIBATCH_SIZE = 64\n",
    "VISUALIZATION = True"
   ]
  },
  {
   "cell_type": "code",
   "execution_count": 3,
   "metadata": {},
   "outputs": [],
   "source": [
    "env = gym.make('CartPole-v0')\n",
    "action_dim = env.action_space.n\n",
    "observation_dim = env.observation_space.shape"
   ]
  },
  {
   "cell_type": "code",
   "execution_count": 4,
   "metadata": {},
   "outputs": [
    {
     "name": "stdout",
     "output_type": "stream",
     "text": [
      "WARNING:tensorflow:From C:\\Users\\Vinay Patel\\Project_RL\\A2C\\actor_model.py:13: The name tf.keras.backend.set_session is deprecated. Please use tf.compat.v1.keras.backend.set_session instead.\n",
      "\n",
      "WARNING:tensorflow:From C:\\Users\\Vinay Patel\\AppData\\Local\\Continuum\\anaconda3\\lib\\site-packages\\tensorflow_core\\python\\ops\\resource_variable_ops.py:1630: calling BaseResourceVariable.__init__ (from tensorflow.python.ops.resource_variable_ops) with constraint is deprecated and will be removed in a future version.\n",
      "Instructions for updating:\n",
      "If using Keras pass *_constraint arguments to layers.\n",
      "WARNING:tensorflow:From C:\\Users\\Vinay Patel\\Project_RL\\A2C\\actor_model.py:16: The name tf.placeholder is deprecated. Please use tf.compat.v1.placeholder instead.\n",
      "\n",
      "WARNING:tensorflow:From C:\\Users\\Vinay Patel\\AppData\\Local\\Continuum\\anaconda3\\lib\\site-packages\\tensorflow_core\\python\\ops\\math_grad.py:1424: where (from tensorflow.python.ops.array_ops) is deprecated and will be removed in a future version.\n",
      "Instructions for updating:\n",
      "Use tf.where in 2.0, which has the same broadcast rule as np.where\n",
      "WARNING:tensorflow:From C:\\Users\\Vinay Patel\\Project_RL\\A2C\\actor_model.py:22: The name tf.train.AdamOptimizer is deprecated. Please use tf.compat.v1.train.AdamOptimizer instead.\n",
      "\n",
      "WARNING:tensorflow:From C:\\Users\\Vinay Patel\\AppData\\Local\\Continuum\\anaconda3\\lib\\site-packages\\tensorflow_core\\python\\util\\tf_should_use.py:198: initialize_all_variables (from tensorflow.python.ops.variables) is deprecated and will be removed after 2017-03-02.\n",
      "Instructions for updating:\n",
      "Use `tf.global_variables_initializer` instead.\n"
     ]
    }
   ],
   "source": [
    "sess = tf.Session()\n",
    "replay_memory = deque(maxlen=REPLAY_MEMORY_SIZE)\n",
    "actor = Actor(sess, action_dim, observation_dim)\n",
    "critic = Critic(sess, action_dim, observation_dim)\n",
    "sess.run(tf.initialize_all_variables())"
   ]
  },
  {
   "cell_type": "code",
   "execution_count": 5,
   "metadata": {},
   "outputs": [],
   "source": [
    "def train_advantage_actor_critic(replay_memory, actor, critic):\n",
    "    minibatch = random.sample(replay_memory, MINIBATCH_SIZE)\n",
    "    X = []\n",
    "    y = []\n",
    "    advantages = np.zeros(shape=(MINIBATCH_SIZE, action_dim))\n",
    "    for index, sample in enumerate(minibatch):\n",
    "        cur_state, action, reward, next_state, done = sample\n",
    "        if done:\n",
    "            advantages[index][action] = reward - critic.model.predict(np.expand_dims(cur_state, axis=0))[0][0]\n",
    "        else:\n",
    "            next_reward = critic.model.predict(np.expand_dims(next_state, axis=0))[0][0]\n",
    "            advantages[index][action] = reward + DISCOUNT * next_reward - critic.model.predict(np.expand_dims(cur_state, axis=0))[0][0]\n",
    "            reward = reward + DISCOUNT * next_reward\n",
    "        X.append(cur_state)\n",
    "        y.append(reward)\n",
    "    X = np.array(X)\n",
    "    y = np.array(y)\n",
    "    y = np.expand_dims(y, axis=1)\n",
    "    actor.train(X, advantages)\n",
    "    critic.model.fit(X, y, batch_size=MINIBATCH_SIZE, verbose=0)"
   ]
  },
  {
   "cell_type": "code",
   "execution_count": null,
   "metadata": {},
   "outputs": [
    {
     "name": "stdout",
     "output_type": "stream",
     "text": [
      "Episodes: 0 Episodic_Reweard: 40.0 Max_Reward_Achieved: 40.0 EPSILON: 1\n",
      "Episodes: 1 Episodic_Reweard: 19.0 Max_Reward_Achieved: 40.0 EPSILON: 1\n",
      "Episodes: 2 Episodic_Reweard: 19.0 Max_Reward_Achieved: 40.0 EPSILON: 1\n",
      "Episodes: 3 Episodic_Reweard: 15.0 Max_Reward_Achieved: 40.0 EPSILON: 1\n",
      "Episodes: 4 Episodic_Reweard: 32.0 Max_Reward_Achieved: 40.0 EPSILON: 1\n",
      "Episodes: 5 Episodic_Reweard: 23.0 Max_Reward_Achieved: 40.0 EPSILON: 1\n",
      "Episodes: 6 Episodic_Reweard: 13.0 Max_Reward_Achieved: 40.0 EPSILON: 1\n",
      "Episodes: 7 Episodic_Reweard: 12.0 Max_Reward_Achieved: 40.0 EPSILON: 1\n",
      "Episodes: 8 Episodic_Reweard: 13.0 Max_Reward_Achieved: 40.0 EPSILON: 1\n",
      "Episodes: 9 Episodic_Reweard: 16.0 Max_Reward_Achieved: 40.0 EPSILON: 1\n",
      "Episodes: 10 Episodic_Reweard: 14.0 Max_Reward_Achieved: 40.0 EPSILON: 1\n",
      "Episodes: 11 Episodic_Reweard: 13.0 Max_Reward_Achieved: 40.0 EPSILON: 1\n",
      "Episodes: 12 Episodic_Reweard: 27.0 Max_Reward_Achieved: 40.0 EPSILON: 1\n",
      "Episodes: 13 Episodic_Reweard: 27.0 Max_Reward_Achieved: 40.0 EPSILON: 1\n",
      "Episodes: 14 Episodic_Reweard: 12.0 Max_Reward_Achieved: 40.0 EPSILON: 1\n",
      "Episodes: 15 Episodic_Reweard: 30.0 Max_Reward_Achieved: 40.0 EPSILON: 1\n",
      "Episodes: 16 Episodic_Reweard: 13.0 Max_Reward_Achieved: 40.0 EPSILON: 1\n",
      "Episodes: 17 Episodic_Reweard: 16.0 Max_Reward_Achieved: 40.0 EPSILON: 1\n",
      "Episodes: 18 Episodic_Reweard: 10.0 Max_Reward_Achieved: 40.0 EPSILON: 1\n",
      "Episodes: 19 Episodic_Reweard: 14.0 Max_Reward_Achieved: 40.0 EPSILON: 1\n",
      "Episodes: 20 Episodic_Reweard: 15.0 Max_Reward_Achieved: 40.0 EPSILON: 1\n",
      "Episodes: 21 Episodic_Reweard: 10.0 Max_Reward_Achieved: 40.0 EPSILON: 1\n",
      "Episodes: 22 Episodic_Reweard: 15.0 Max_Reward_Achieved: 40.0 EPSILON: 1\n",
      "Episodes: 23 Episodic_Reweard: 30.0 Max_Reward_Achieved: 40.0 EPSILON: 1\n",
      "Episodes: 24 Episodic_Reweard: 10.0 Max_Reward_Achieved: 40.0 EPSILON: 1\n",
      "Episodes: 25 Episodic_Reweard: 15.0 Max_Reward_Achieved: 40.0 EPSILON: 1\n",
      "Episodes: 26 Episodic_Reweard: 23.0 Max_Reward_Achieved: 40.0 EPSILON: 1\n",
      "Episodes: 27 Episodic_Reweard: 13.0 Max_Reward_Achieved: 40.0 EPSILON: 1\n",
      "Episodes: 28 Episodic_Reweard: 20.0 Max_Reward_Achieved: 40.0 EPSILON: 1\n",
      "Episodes: 29 Episodic_Reweard: 16.0 Max_Reward_Achieved: 40.0 EPSILON: 1\n",
      "Episodes: 30 Episodic_Reweard: 10.0 Max_Reward_Achieved: 40.0 EPSILON: 1\n",
      "Episodes: 31 Episodic_Reweard: 20.0 Max_Reward_Achieved: 40.0 EPSILON: 1\n",
      "Episodes: 32 Episodic_Reweard: 23.0 Max_Reward_Achieved: 40.0 EPSILON: 1\n",
      "Episodes: 33 Episodic_Reweard: 35.0 Max_Reward_Achieved: 40.0 EPSILON: 1\n",
      "Episodes: 34 Episodic_Reweard: 27.0 Max_Reward_Achieved: 40.0 EPSILON: 1\n",
      "Episodes: 35 Episodic_Reweard: 22.0 Max_Reward_Achieved: 40.0 EPSILON: 1\n",
      "Episodes: 36 Episodic_Reweard: 15.0 Max_Reward_Achieved: 40.0 EPSILON: 1\n",
      "Episodes: 37 Episodic_Reweard: 16.0 Max_Reward_Achieved: 40.0 EPSILON: 1\n",
      "Episodes: 38 Episodic_Reweard: 34.0 Max_Reward_Achieved: 40.0 EPSILON: 1\n",
      "Episodes: 39 Episodic_Reweard: 36.0 Max_Reward_Achieved: 40.0 EPSILON: 1\n",
      "Episodes: 40 Episodic_Reweard: 18.0 Max_Reward_Achieved: 40.0 EPSILON: 1\n",
      "Episodes: 41 Episodic_Reweard: 18.0 Max_Reward_Achieved: 40.0 EPSILON: 1\n",
      "Episodes: 42 Episodic_Reweard: 15.0 Max_Reward_Achieved: 40.0 EPSILON: 1\n",
      "Episodes: 43 Episodic_Reweard: 9.0 Max_Reward_Achieved: 40.0 EPSILON: 1\n",
      "Episodes: 44 Episodic_Reweard: 40.0 Max_Reward_Achieved: 40.0 EPSILON: 1\n",
      "Episodes: 45 Episodic_Reweard: 29.0 Max_Reward_Achieved: 40.0 EPSILON: 1\n",
      "Episodes: 46 Episodic_Reweard: 30.0 Max_Reward_Achieved: 40.0 EPSILON: 1\n",
      "Episodes: 47 Episodic_Reweard: 19.0 Max_Reward_Achieved: 40.0 EPSILON: 1\n",
      "Episodes: 48 Episodic_Reweard: 17.0 Max_Reward_Achieved: 40.0 EPSILON: 1\n",
      "Episodes: 49 Episodic_Reweard: 28.0 Max_Reward_Achieved: 40.0 EPSILON: 0.993020965034979\n",
      "Episodes: 50 Episodic_Reweard: 15.0 Max_Reward_Achieved: 40.0 EPSILON: 0.9782294672887405\n",
      "Episodes: 51 Episodic_Reweard: 27.0 Max_Reward_Achieved: 40.0 EPSILON: 0.9521577859830145\n",
      "Episodes: 52 Episodic_Reweard: 32.0 Max_Reward_Achieved: 40.0 EPSILON: 0.9221563184394991\n",
      "Episodes: 53 Episodic_Reweard: 17.0 Max_Reward_Achieved: 40.0 EPSILON: 0.9066044494080763\n",
      "Episodes: 54 Episodic_Reweard: 27.0 Max_Reward_Achieved: 40.0 EPSILON: 0.8824417114557717\n"
     ]
    }
   ],
   "source": [
    "max_reward = 0\n",
    "scores_window = deque(maxlen=100)\n",
    "for episode in range(EPISODES):\n",
    "    cur_state = env.reset()\n",
    "    done = False\n",
    "    episode_reward = 0\n",
    "    while not done:\n",
    "        if VISUALIZATION:\n",
    "            env.render()\n",
    "\n",
    "        action = np.zeros(shape=(action_dim))\n",
    "        if(np.random.uniform(0, 1) < EPSILON):\n",
    "            action[np.random.randint(0, action_dim)] = 1\n",
    "        else:\n",
    "            action = actor.model.predict(np.expand_dims(cur_state, axis=0))\n",
    "\n",
    "        next_state, reward, done, _ = env.step(np.argmax(action))\n",
    "\n",
    "        episode_reward += reward\n",
    "        \n",
    "        if done:\n",
    "            reward = -100\n",
    "\n",
    "        replay_memory.append((cur_state, np.argmax(action), reward, next_state, done))\n",
    "\n",
    "        if len(replay_memory) < MINIMUM_REPLAY_MEMORY:\n",
    "            continue\n",
    "        train_advantage_actor_critic(replay_memory, actor, critic)\n",
    "        cur_state = next_state\n",
    "\n",
    "        if EPSILON > MINIMUM_EPSILON and len(replay_memory) >= MINIMUM_REPLAY_MEMORY:\n",
    "            EPSILON *= EPSILON_DECAY\n",
    "            EPSILON = max(EPSILON, MINIMUM_EPSILON)\n",
    "    scores_window.append(episode_reward)\n",
    "    if np.mean(scores_window)>=180.0:\n",
    "            print('\\nEnvironment solved in {:d} episodes!\\tAverage Score: {:.2f}'.format(episode-100, np.mean(scores_window)))\n",
    "            actor.model.save_weights(str(episode_reward)+\"cartpole.h5\")\n",
    "            break\n",
    "    max_reward = max(max_reward, episode_reward)\n",
    "    print('Episodes:', episode, 'Episodic_Reweard:', episode_reward, 'Max_Reward_Achieved:', max_reward, 'EPSILON:', EPSILON)"
   ]
  },
  {
   "cell_type": "code",
   "execution_count": null,
   "metadata": {},
   "outputs": [],
   "source": [
    "env.close()"
   ]
  }
 ],
 "metadata": {
  "kernelspec": {
   "display_name": "Python 3",
   "language": "python",
   "name": "python3"
  },
  "language_info": {
   "codemirror_mode": {
    "name": "ipython",
    "version": 3
   },
   "file_extension": ".py",
   "mimetype": "text/x-python",
   "name": "python",
   "nbconvert_exporter": "python",
   "pygments_lexer": "ipython3",
   "version": "3.7.4"
  }
 },
 "nbformat": 4,
 "nbformat_minor": 2
}
