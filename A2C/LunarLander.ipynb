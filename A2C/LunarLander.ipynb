{
 "cells": [
  {
   "cell_type": "code",
   "execution_count": null,
   "metadata": {},
   "outputs": [],
   "source": [
    "import gym\n",
    "from collections import deque\n",
    "from actor_model import Actor\n",
    "from critic_model import Critic\n",
    "import numpy as np\n",
    "import random\n",
    "import tensorflow as tf\n",
    "random.seed(2212)\n",
    "np.random.seed(2212)\n",
    "tf.set_random_seed(2212)"
   ]
  },
  {
   "cell_type": "code",
   "execution_count": null,
   "metadata": {},
   "outputs": [],
   "source": [
    "EPISODES = 2000\n",
    "REPLAY_MEMORY_SIZE = 200000\n",
    "MINIMUM_REPLAY_MEMORY = 1000\n",
    "DISCOUNT = 0.99\n",
    "EPSILON = 1\n",
    "EPSILON_DECAY = 0.9999\n",
    "MINIMUM_EPSILON = 0.01\n",
    "MINIBATCH_SIZE = 64\n",
    "VISUALIZATION = True"
   ]
  },
  {
   "cell_type": "code",
   "execution_count": null,
   "metadata": {},
   "outputs": [],
   "source": [
    "env = gym.make('LunarLander-v2')\n",
    "action_dim = env.action_space.n\n",
    "observation_dim = env.observation_space.shape"
   ]
  },
  {
   "cell_type": "code",
   "execution_count": null,
   "metadata": {},
   "outputs": [],
   "source": [
    "sess = tf.Session()\n",
    "replay_memory = deque(maxlen=REPLAY_MEMORY_SIZE)\n",
    "actor = Actor(sess, action_dim, observation_dim)\n",
    "critic = Critic(sess, action_dim, observation_dim)\n",
    "sess.run(tf.initialize_all_variables())"
   ]
  },
  {
   "cell_type": "code",
   "execution_count": null,
   "metadata": {},
   "outputs": [],
   "source": [
    "def train_advantage_actor_critic(replay_memory, actor, critic):\n",
    "    minibatch = random.sample(replay_memory, MINIBATCH_SIZE)\n",
    "    X = []\n",
    "    y = []\n",
    "    advantages = np.zeros(shape=(MINIBATCH_SIZE, action_dim))\n",
    "    for index, sample in enumerate(minibatch):\n",
    "        cur_state, action, reward, next_state, done = sample\n",
    "        if done:\n",
    "            advantages[index][action] = reward - critic.model.predict(np.expand_dims(cur_state, axis=0))[0][0]\n",
    "        else:\n",
    "            next_reward = critic.model.predict(np.expand_dims(next_state, axis=0))[0][0]\n",
    "            advantages[index][action] = reward + DISCOUNT * next_reward - critic.model.predict(np.expand_dims(cur_state, axis=0))[0][0]\n",
    "            reward = reward + DISCOUNT * next_reward\n",
    "        X.append(cur_state)\n",
    "        y.append(reward)\n",
    "    X = np.array(X)\n",
    "    y = np.array(y)\n",
    "    y = np.expand_dims(y, axis=1)\n",
    "    actor.train(X, advantages)\n",
    "    critic.model.fit(X, y, batch_size=MINIBATCH_SIZE, verbose=0)"
   ]
  },
  {
   "cell_type": "code",
   "execution_count": null,
   "metadata": {},
   "outputs": [],
   "source": [
    "max_reward = 0\n",
    "scores_window = deque(maxlen=100)\n",
    "for episode in range(EPISODES):\n",
    "    cur_state = env.reset()\n",
    "    done = False\n",
    "    episode_reward = 0\n",
    "    while not done:\n",
    "        if VISUALIZATION:\n",
    "            env.render()\n",
    "\n",
    "        action = np.zeros(shape=(action_dim))\n",
    "        if(np.random.uniform(0, 1) < EPSILON):\n",
    "            action[np.random.randint(0, action_dim)] = 1\n",
    "        else:\n",
    "            action = actor.model.predict(np.expand_dims(cur_state, axis=0))\n",
    "\n",
    "        next_state, reward, done, _ = env.step(np.argmax(action))\n",
    "\n",
    "        episode_reward += reward\n",
    "        \n",
    "        #if done:\n",
    "            #reward = -100\n",
    "\n",
    "        replay_memory.append((cur_state, np.argmax(action), reward, next_state, done))\n",
    "\n",
    "        if len(replay_memory) < MINIMUM_REPLAY_MEMORY:\n",
    "            continue\n",
    "        train_advantage_actor_critic(replay_memory, actor, critic)\n",
    "        cur_state = next_state\n",
    "\n",
    "        if EPSILON > MINIMUM_EPSILON and len(replay_memory) >= MINIMUM_REPLAY_MEMORY:\n",
    "            EPSILON *= EPSILON_DECAY\n",
    "            EPSILON = max(EPSILON, MINIMUM_EPSILON)\n",
    "    scores_window.append(episode_reward)\n",
    "    if np.mean(scores_window)>=250.0:\n",
    "            print('\\nEnvironment solved in {:d} episodes!\\tAverage Score: {:.2f}'.format(episode-100, np.mean(scores_window)))\n",
    "            actor.model.save_weights(str(episode_reward)+\"lunarlander.h5\")\n",
    "            break\n",
    "    max_reward = max(max_reward, episode_reward)\n",
    "    print('Episodes:', episode, 'Episodic_Reweard:', episode_reward, 'Max_Reward_Achieved:', max_reward, 'EPSILON:', EPSILON)"
   ]
  },
  {
   "cell_type": "code",
   "execution_count": null,
   "metadata": {},
   "outputs": [],
   "source": []
  }
 ],
 "metadata": {
  "kernelspec": {
   "display_name": "Python 3",
   "language": "python",
   "name": "python3"
  },
  "language_info": {
   "codemirror_mode": {
    "name": "ipython",
    "version": 3
   },
   "file_extension": ".py",
   "mimetype": "text/x-python",
   "name": "python",
   "nbconvert_exporter": "python",
   "pygments_lexer": "ipython3",
   "version": "3.7.4"
  }
 },
 "nbformat": 4,
 "nbformat_minor": 2
}
